{
 "cells": [
  {
   "cell_type": "code",
   "execution_count": 1,
   "metadata": {},
   "outputs": [],
   "source": [
    "from time import time\n",
    "import matplotlib.pyplot as plt\n",
    "from sksparse.cholmod import cholesky\n",
    "import scipy\n",
    "import numpy as np"
   ]
  },
  {
   "cell_type": "code",
   "execution_count": 2,
   "metadata": {},
   "outputs": [],
   "source": [
    "nside = 32\n",
    "A = scipy.sparse.load_npz('matrices/{}_stiffness.npz'.format(nside))\n",
    "B = scipy.sparse.load_npz('matrices/{}_mass.npz'.format(nside))\n",
    "npix = A.shape[0]"
   ]
  },
  {
   "cell_type": "markdown",
   "metadata": {},
   "source": [
    "# 1) Sparse Cholesky Decomposition"
   ]
  },
  {
   "cell_type": "markdown",
   "metadata": {},
   "source": [
    "### 1.1) Measuring the time to decompose the matrix B"
   ]
  },
  {
   "cell_type": "code",
   "execution_count": 3,
   "metadata": {},
   "outputs": [
    {
     "name": "stdout",
     "output_type": "stream",
     "text": [
      "Seconds to perform a sparse Cholesky decomposition =  0.05486297607421875\n"
     ]
    },
    {
     "name": "stderr",
     "output_type": "stream",
     "text": [
      "/Users/Mart/anaconda3/envs/scikits-sparse/lib/python3.7/site-packages/ipykernel_launcher.py:2: CholmodTypeConversionWarning: converting matrix of class csr_matrix to CSC format\n",
      "  \n"
     ]
    }
   ],
   "source": [
    "t = time()\n",
    "factor = cholesky(B)\n",
    "print(\"Seconds to perform a sparse Cholesky decomposition = \", time()-t)"
   ]
  },
  {
   "cell_type": "markdown",
   "metadata": {},
   "source": [
    "Let's visualize the result of the sparse Cholesky decomposition:"
   ]
  },
  {
   "cell_type": "code",
   "execution_count": 4,
   "metadata": {},
   "outputs": [
    {
     "data": {
      "image/png": "[encoded data removed]",
      "text/plain": [
       "<Figure size 432x288 with 1 Axes>"
      ]
     },
     "metadata": {
      "needs_background": "light"
     },
     "output_type": "display_data"
    },
    {
     "data": {
      "text/plain": [
       "<matplotlib.lines.Line2D at 0x118265518>"
      ]
     },
     "execution_count": 4,
     "metadata": {},
     "output_type": "execute_result"
    },
    {
     "data": {
      "image/png": "[encoded data removed]",
      "text/plain": [
       "<Figure size 432x288 with 1 Axes>"
      ]
     },
     "metadata": {
      "needs_background": "light"
     },
     "output_type": "display_data"
    }
   ],
   "source": [
    "plt.spy(A)\n",
    "plt.show()\n",
    "plt.spy(factor.L())"
   ]
  },
  {
   "cell_type": "code",
   "execution_count": 5,
   "metadata": {},
   "outputs": [],
   "source": [
    "#scipy.sparse.save_npz('matrices/{}_cholB'.format(nside), factor.L())"
   ]
  },
  {
   "cell_type": "markdown",
   "metadata": {},
   "source": [
    "### 1.2) Measuring the time to solve the two sparse triangular systems"
   ]
  },
  {
   "cell_type": "code",
   "execution_count": 6,
   "metadata": {},
   "outputs": [
    {
     "name": "stdout",
     "output_type": "stream",
     "text": [
      "0.005061149597167969\n"
     ]
    }
   ],
   "source": [
    "b = np.ones(npix)\n",
    "t = time()\n",
    "x0 = factor.solve_A(A@b)\n",
    "print(time()-t)"
   ]
  },
  {
   "cell_type": "markdown",
   "metadata": {},
   "source": [
    "# 2) Naive solution of the system"
   ]
  },
  {
   "cell_type": "code",
   "execution_count": 7,
   "metadata": {},
   "outputs": [
    {
     "name": "stdout",
     "output_type": "stream",
     "text": [
      "47.731324911117554\n"
     ]
    }
   ],
   "source": [
    "B_array = B.toarray()\n",
    "A_array = A.toarray()\n",
    "t = time()\n",
    "x1 = np.linalg.solve(B_array,A_array@b)\n",
    "naive_time = time()-t\n",
    "print(naive_time)"
   ]
  },
  {
   "cell_type": "markdown",
   "metadata": {},
   "source": [
    "The solutions obtained with the two methods are actually almost the same:"
   ]
  },
  {
   "cell_type": "code",
   "execution_count": 8,
   "metadata": {},
   "outputs": [
    {
     "data": {
      "text/plain": [
       "7.182142331109502e-11"
      ]
     },
     "execution_count": 8,
     "metadata": {},
     "output_type": "execute_result"
    }
   ],
   "source": [
    "np.linalg.norm(x0-x1)"
   ]
  },
  {
   "cell_type": "markdown",
   "metadata": {},
   "source": [
    "# 3) Tensorflow implementation (full Cholesky decomposition)"
   ]
  },
  {
   "cell_type": "code",
   "execution_count": 9,
   "metadata": {
    "scrolled": false
   },
   "outputs": [
    {
     "name": "stderr",
     "output_type": "stream",
     "text": [
      "/Users/Mart/anaconda3/envs/scikits-sparse/lib/python3.7/site-packages/tensorflow/python/framework/dtypes.py:526: FutureWarning: Passing (type, 1) or '1type' as a synonym of type is deprecated; in a future version of numpy, it will be understood as (type, (1,)) / '(1,)type'.\n",
      "  _np_qint8 = np.dtype([(\"qint8\", np.int8, 1)])\n",
      "/Users/Mart/anaconda3/envs/scikits-sparse/lib/python3.7/site-packages/tensorflow/python/framework/dtypes.py:527: FutureWarning: Passing (type, 1) or '1type' as a synonym of type is deprecated; in a future version of numpy, it will be understood as (type, (1,)) / '(1,)type'.\n",
      "  _np_quint8 = np.dtype([(\"quint8\", np.uint8, 1)])\n",
      "/Users/Mart/anaconda3/envs/scikits-sparse/lib/python3.7/site-packages/tensorflow/python/framework/dtypes.py:528: FutureWarning: Passing (type, 1) or '1type' as a synonym of type is deprecated; in a future version of numpy, it will be understood as (type, (1,)) / '(1,)type'.\n",
      "  _np_qint16 = np.dtype([(\"qint16\", np.int16, 1)])\n",
      "/Users/Mart/anaconda3/envs/scikits-sparse/lib/python3.7/site-packages/tensorflow/python/framework/dtypes.py:529: FutureWarning: Passing (type, 1) or '1type' as a synonym of type is deprecated; in a future version of numpy, it will be understood as (type, (1,)) / '(1,)type'.\n",
      "  _np_quint16 = np.dtype([(\"quint16\", np.uint16, 1)])\n",
      "/Users/Mart/anaconda3/envs/scikits-sparse/lib/python3.7/site-packages/tensorflow/python/framework/dtypes.py:530: FutureWarning: Passing (type, 1) or '1type' as a synonym of type is deprecated; in a future version of numpy, it will be understood as (type, (1,)) / '(1,)type'.\n",
      "  _np_qint32 = np.dtype([(\"qint32\", np.int32, 1)])\n",
      "/Users/Mart/anaconda3/envs/scikits-sparse/lib/python3.7/site-packages/tensorflow/python/framework/dtypes.py:535: FutureWarning: Passing (type, 1) or '1type' as a synonym of type is deprecated; in a future version of numpy, it will be understood as (type, (1,)) / '(1,)type'.\n",
      "  np_resource = np.dtype([(\"resource\", np.ubyte, 1)])\n"
     ]
    }
   ],
   "source": [
    "import tensorflow as tf;"
   ]
  },
  {
   "cell_type": "code",
   "execution_count": 13,
   "metadata": {},
   "outputs": [
    {
     "name": "stdout",
     "output_type": "stream",
     "text": [
      "20.306830167770386\n"
     ]
    }
   ],
   "source": [
    "RHS = np.random.rand(npix,1) \n",
    "t = time()\n",
    "chol = tf.cholesky(A_array)  # shape 10 x 2 x 2\n",
    "print(time()-t)"
   ]
  },
  {
   "cell_type": "code",
   "execution_count": 14,
   "metadata": {},
   "outputs": [
    {
     "data": {
      "text/plain": [
       "<tf.Tensor 'Cholesky_1:0' shape=(12288, 12288) dtype=float64>"
      ]
     },
     "execution_count": 14,
     "metadata": {},
     "output_type": "execute_result"
    }
   ],
   "source": [
    "chol"
   ]
  },
  {
   "cell_type": "code",
   "execution_count": 15,
   "metadata": {},
   "outputs": [
    {
     "name": "stdout",
     "output_type": "stream",
     "text": [
      "0.017293214797973633\n"
     ]
    },
    {
     "data": {
      "text/plain": [
       "<tf.Tensor 'cholesky_solve_4/MatrixTriangularSolve_1:0' shape=(12288, 1) dtype=float64>"
      ]
     },
     "execution_count": 15,
     "metadata": {},
     "output_type": "execute_result"
    }
   ],
   "source": [
    "t = time()\n",
    "X = tf.cholesky_solve(chol, RHS)\n",
    "print(time()-t)\n",
    "# tf.matmul(A, X) ~ RHS\n",
    "X  # Solution to the linear system A x = RHS"
   ]
  },
  {
   "cell_type": "code",
   "execution_count": null,
   "metadata": {},
   "outputs": [
    {
     "name": "stdout",
     "output_type": "stream",
     "text": [
      "nside = 4, naive time = 0.003130197525024414\n",
      "nside = 4, cholesky time = 0.004248142242431641\n",
      "nside = 8, naive time = 0.027750253677368164\n",
      "nside = 8, cholesky time = 0.0043849945068359375\n",
      "nside = 16, naive time = 0.9594411849975586\n",
      "nside = 16, cholesky time = 0.002524137496948242\n",
      "nside = 32, naive time = 49.80830216407776\n",
      "nside = 32, cholesky time = 0.04708099365234375\n"
     ]
    }
   ],
   "source": [
    "naive_line = []\n",
    "tf_line = []\n",
    "nsides = [4,8,16, 32]\n",
    "\n",
    "for nside in nsides:\n",
    "    A = scipy.sparse.load_npz('matrices/{}_stiffness.npz'.format(nside))\n",
    "    B = scipy.sparse.load_npz('matrices/{}_mass.npz'.format(nside))\n",
    "    cholB = scipy.sparse.load_npz('matrices/{}_cholB.npz'.format(nside))\n",
    "    npix = A.shape[0]\n",
    "    \n",
    "    # naive solve\n",
    "    b = np.ones(npix)\n",
    "    B_array = B.toarray()\n",
    "    A_array = A.toarray()\n",
    "    RHS = A_array@b\n",
    "    t = time()\n",
    "    x1 = np.linalg.solve(B_array,RHS)\n",
    "    naive_time = time()-t\n",
    "    naive_line.append(naive_time)\n",
    "    print(\"nside = {}, naive time = {}\".format(nside, naive_time))\n",
    "    \n",
    "    # tensorflow cholesky_solve\n",
    "    \n",
    "    # WARNING: IT IS FUNDAMENTAL TO USE TF.TENSORS in tf.cholesky_solve, otherwise it takes ages    \n",
    "    cholB_tensor = tf.constant(cholB.toarray())\n",
    "    RHS = np.random.rand(npix,1)\n",
    "    t = time()\n",
    "    X = tf.cholesky_solve(cholB_tensor, RHS)\n",
    "    tf_time = time()-t\n",
    "    tf_line.append(tf_time)\n",
    "    print(\"nside = {}, cholesky time = {}\".format(nside, tf_time))\n",
    "\n",
    "\n",
    "plt.plot(naive_line, 'b')\n",
    "plt.plot(tf_line, 'g')\n",
    "plt.yscale('log')\n",
    "plt.show()"
   ]
  },
  {
   "cell_type": "code",
   "execution_count": null,
   "metadata": {},
   "outputs": [],
   "source": []
  },
  {
   "cell_type": "code",
   "execution_count": null,
   "metadata": {},
   "outputs": [],
   "source": []
  }
 ],
 "metadata": {
  "kernelspec": {
   "display_name": "Python [conda env:scikits-sparse]",
   "language": "python",
   "name": "conda-env-scikits-sparse-py"
  },
  "language_info": {
   "codemirror_mode": {
    "name": "ipython",
    "version": 3
   },
   "file_extension": ".py",
   "mimetype": "text/x-python",
   "name": "python",
   "nbconvert_exporter": "python",
   "pygments_lexer": "ipython3",
   "version": "3.7.3"
  }
 },
 "nbformat": 4,
 "nbformat_minor": 2
}
